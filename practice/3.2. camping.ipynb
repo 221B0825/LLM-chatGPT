{
 "cells": [
  {
   "cell_type": "code",
   "execution_count": null,
   "metadata": {},
   "outputs": [],
   "source": [
    "# 인증 키 등록\n",
    "\n",
    "import os\n",
    "from dotenv import load_dotenv\n",
    "\n",
    "load_dotenv()\n",
    "\n",
    "CAMPING_API_KEY = os.getenv(\"CAMPING_API_KEY\")\n",
    "OPENAI_API_KEY = os.getenv(\"OPENAI_API_KEY\")\n",
    "\n",
    "print(CAMPING_API_KEY)"
   ]
  },
  {
   "cell_type": "code",
   "execution_count": null,
   "metadata": {},
   "outputs": [],
   "source": [
    "# url에 parse하여 적용\n",
    "\n",
    "from urllib.parse import quote\n",
    "\n",
    "KeyWord = quote(\"계곡\")\n",
    "print(KeyWord)"
   ]
  },
  {
   "cell_type": "code",
   "execution_count": 3,
   "metadata": {},
   "outputs": [],
   "source": [
    "url = f\"http://apis.data.go.kr/B551011/GoCamping/searchList?serviceKey={CAMPING_API_KEY}&numOfRows=10&pageNo=1&MobileOS=ETC&MobileApp=AppTest&_type=JSON&keyword={KeyWord}\""
   ]
  },
  {
   "cell_type": "code",
   "execution_count": null,
   "metadata": {},
   "outputs": [],
   "source": [
    "# 공공데이터 API 호출하여 키워드를 포함한 캠핑장 데이터 반환\n",
    "\n",
    "import requests\n",
    "\n",
    "def get_url_content(url):\n",
    "    try:\n",
    "        response = requests.get(url)\n",
    "        if response.status_code == 200:\n",
    "            return response.text\n",
    "        else:\n",
    "            response.raise_for_status()\n",
    "    except requests.exceptions.RequestException as e:\n",
    "        print(f\"Request Exception: {e}\")\n",
    "        return None\n",
    "    \n",
    "result = get_url_content(url)\n",
    "if result is not None:\n",
    "    print(result)\n",
    "else:\n",
    "    print(\"Failed to retrieve URL content\")"
   ]
  },
  {
   "cell_type": "code",
   "execution_count": null,
   "metadata": {},
   "outputs": [],
   "source": [
    "# json 형태의 데이터 읽어들여서 필요한 정보 추출 (캠핑장 이름 : 간략 설명)\n",
    "import json\n",
    "\n",
    "data = json.loads(result)\n",
    "sites = data['response']['body']['items']['item']\n",
    "\n",
    "for site in sites:\n",
    "    print(site['facltNm']+\" : \"+site['intro'])"
   ]
  },
  {
   "cell_type": "code",
   "execution_count": null,
   "metadata": {},
   "outputs": [],
   "source": [
    "# openAI API로 키워드 추출 질문\n",
    "import os\n",
    "import openai\n",
    "\n",
    "openai.api_key = os.getenv(\"OPENAI_API_KEY\")\n",
    "\n",
    "response = openai.chat.completions.create(\n",
    "    model=\"gpt-3.5-turbo\",\n",
    "    messages=[\n",
    "        {\n",
    "            \"role\":\"system\",\n",
    "            \"content\":\"다음 질문에서 가장 중요한 키워드 단어 하나만 뽑아줘.\"\n",
    "        },\n",
    "        {\n",
    "            \"role\":\"user\",\n",
    "            \"content\": \"계곡이 있는 캠핑장을 추천해줘.\"\n",
    "        }\n",
    "    ],\n",
    "    temperature=0,\n",
    "    max_tokens=1024,\n",
    "    top_p=1,\n",
    "    frequency_penalty=0,\n",
    "    presence_penalty=0\n",
    ")\n",
    "\n",
    "print(response.choices[0].message.content)"
   ]
  },
  {
   "cell_type": "code",
   "execution_count": null,
   "metadata": {},
   "outputs": [],
   "source": [
    "\n",
    "# 캠핑 정보 API 호출하여 데이터 반환\n",
    "result = get_url_content(url)\n",
    "\n",
    "# 데이터 형태 JSON 으로 변환 후 목록 추출\n",
    "import json\n",
    "\n",
    "data = json.loads(result)\n",
    "sites = data['response']['body']['items']['item']\n",
    "\n",
    "context = ''\n",
    "i = 1\n",
    "for site in sites:\n",
    "    context = context + str(i) + \") \" + site['facltNm'] + \":\" + site['intro'] + \"\\n\"\n",
    "    i = i + 1\n",
    "\n",
    "print(context)"
   ]
  },
  {
   "cell_type": "code",
   "execution_count": null,
   "metadata": {},
   "outputs": [],
   "source": [
    "# openAI API로 답하기\n",
    "\n",
    "import os\n",
    "import openai\n",
    "\n",
    "openai.api_key = os.getenv(\"OPENAI_API_KEY\")\n",
    "\n",
    "response = openai.chat.completions.create(\n",
    "  model=\"gpt-4o-mini\",\n",
    "  messages=[\n",
    "    {\n",
    "      \"role\": \"system\",\n",
    "      \"content\": f\"주어진 문단을 보고 다음 질문에 답해줘: 계곡이 있는 캠핑장을 추천해줘.\"\n",
    "    },\n",
    "    {\n",
    "      \"role\": \"user\",\n",
    "      \"content\": context\n",
    "    }\n",
    "  ],\n",
    "  temperature=0,\n",
    "  max_tokens=1024,\n",
    "  top_p=1,\n",
    "  frequency_penalty=0,\n",
    "  presence_penalty=0\n",
    ")\n",
    "\n",
    "print(response.choices[0].message.content)"
   ]
  }
 ],
 "metadata": {
  "kernelspec": {
   "display_name": "Python 3",
   "language": "python",
   "name": "python3"
  },
  "language_info": {
   "codemirror_mode": {
    "name": "ipython",
    "version": 3
   },
   "file_extension": ".py",
   "mimetype": "text/x-python",
   "name": "python",
   "nbconvert_exporter": "python",
   "pygments_lexer": "ipython3",
   "version": "3.10.12"
  }
 },
 "nbformat": 4,
 "nbformat_minor": 2
}
