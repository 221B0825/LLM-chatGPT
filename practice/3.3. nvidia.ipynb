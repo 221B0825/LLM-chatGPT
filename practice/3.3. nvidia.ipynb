{
 "cells": [
  {
   "cell_type": "code",
   "execution_count": null,
   "metadata": {
    "vscode": {
     "languageId": "powershell"
    }
   },
   "outputs": [],
   "source": [
    "# 데이터 호출 패키지\n",
    "pip install yfinance"
   ]
  },
  {
   "cell_type": "code",
   "execution_count": 2,
   "metadata": {},
   "outputs": [],
   "source": [
    "# os version\n",
    "import os\n",
    "os.environ[\"OPENAI_DEFAULT_MODEL\"] = 'gpt-4o-mini'"
   ]
  },
  {
   "cell_type": "code",
   "execution_count": null,
   "metadata": {},
   "outputs": [],
   "source": [
    "import yfinance as yf\n",
    "\n",
    "# 엔비디아 주식 데이터 가져오기\n",
    "nvidia = yf.Ticker(\"NVDA\")\n",
    "\n",
    "# 최근 5일간 주가 데이터\n",
    "history = nvidia.history(period=\"5d\")\n",
    "print(history)"
   ]
  },
  {
   "cell_type": "markdown",
   "metadata": {},
   "source": []
  },
  {
   "cell_type": "code",
   "execution_count": null,
   "metadata": {},
   "outputs": [],
   "source": [
    "# NVIDIA dataframe 정의\n",
    "ticker = \"NVDA\"\n",
    "df = yf.download(ticker, start=\"2024-05-01\", end=\"2024-05-26\")"
   ]
  },
  {
   "cell_type": "code",
   "execution_count": null,
   "metadata": {},
   "outputs": [],
   "source": [
    "# dataframe 상위 5개\n",
    "df.head()"
   ]
  },
  {
   "cell_type": "code",
   "execution_count": null,
   "metadata": {},
   "outputs": [],
   "source": [
    "# dataframe 하위 5개\n",
    "df.tail()"
   ]
  },
  {
   "cell_type": "code",
   "execution_count": null,
   "metadata": {},
   "outputs": [],
   "source": [
    "# 데이터 시각화 작업\n",
    "\n",
    "import matplotlib.pyplot as plt\n",
    "\n",
    "# figure: 그림 객체 생성, 너비 14인치, 높이 7인치\n",
    "plt.figure(figsize=(14,7))\n",
    "# dataframe의 Close 컬럼 사용, 라벨 Closing Price\n",
    "plt.plot(df['Close'], label='Closing Price')\n",
    "# 차트 타이틀\n",
    "plt.title('NVIDIA(NVDA) Stock Price')\n",
    "# X축 라벨\n",
    "plt.xlabel('Date')\n",
    "# Y축 라벨\n",
    "plt.ylabel('Price')\n",
    "# 범례 표시\n",
    "plt.legend()\n",
    "\n",
    "plt.show()"
   ]
  },
  {
   "cell_type": "code",
   "execution_count": 8,
   "metadata": {},
   "outputs": [],
   "source": [
    "# dataframe 재정의\n",
    "df.rename(columns={\n",
    "    'Open': '시가',\n",
    "    'High': '고가',\n",
    "    'Low': '저가',\n",
    "    'Close': '종가',\n",
    "    'Adj Close': '수정 종가',\n",
    "    'Volume': '거래량'\n",
    "}, inplace=True)\n",
    "\n",
    "df.rename_axis('날짜', inplace=True)"
   ]
  },
  {
   "cell_type": "code",
   "execution_count": null,
   "metadata": {},
   "outputs": [],
   "source": [
    "df.head()"
   ]
  },
  {
   "cell_type": "code",
   "execution_count": null,
   "metadata": {},
   "outputs": [],
   "source": [
    "# csv로 변환\n",
    "from io import StringIO\n",
    "csv_buffer = StringIO()\n",
    "\n",
    "df.to_csv(csv_buffer)\n",
    "csv_data = csv_buffer.getvalue()\n",
    "print(csv_data)"
   ]
  },
  {
   "cell_type": "code",
   "execution_count": null,
   "metadata": {},
   "outputs": [],
   "source": [
    "import os\n",
    "import openai\n",
    "\n",
    "openai.api_key = os.getenv(\"OPENAI_API_KEY\")\n",
    "\n",
    "response = openai.chat.completions.create(\n",
    "  model=os.getenv(\"OPENAI_DEFAULT_MODEL\"),\n",
    "  messages=[\n",
    "    {\n",
    "      \"role\": \"system\",\n",
    "      \"content\": \"다음은 엔비디아의 날짜별 주가 데이터야. 이 데이터를 분석해서 보고해줘.\"\n",
    "    },\n",
    "    {\n",
    "      \"role\": \"user\",\n",
    "      \"content\": csv_data\n",
    "    }\n",
    "  ],\n",
    "  temperature=0,\n",
    "  max_tokens=1024,\n",
    "  top_p=1,\n",
    "  frequency_penalty=0,\n",
    "  presence_penalty=0\n",
    ")\n",
    "\n",
    "print(response.choices[0].message.content)"
   ]
  }
 ],
 "metadata": {
  "kernelspec": {
   "display_name": "Python 3",
   "language": "python",
   "name": "python3"
  },
  "language_info": {
   "codemirror_mode": {
    "name": "ipython",
    "version": 3
   },
   "file_extension": ".py",
   "mimetype": "text/x-python",
   "name": "python",
   "nbconvert_exporter": "python",
   "pygments_lexer": "ipython3",
   "version": "3.10.12"
  }
 },
 "nbformat": 4,
 "nbformat_minor": 2
}
