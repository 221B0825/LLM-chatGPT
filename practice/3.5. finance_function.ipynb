{
 "cells": [
  {
   "cell_type": "code",
   "execution_count": 2,
   "metadata": {},
   "outputs": [],
   "source": [
    "import os\n",
    "import json\n",
    "from openai import OpenAI\n",
    "\n",
    "client = OpenAI()\n",
    "client.api_key = os.getenv(\"OPENAI_API_KEY\")"
   ]
  },
  {
   "cell_type": "code",
   "execution_count": null,
   "metadata": {},
   "outputs": [],
   "source": [
    "from pykrx import stock\n",
    "from pykrx import bond\n",
    "from io import StringIO\n",
    "\n",
    "def get_csv_finance(fromDate, toDate, ticker):\n",
    "    # dataframe 생성\n",
    "    df = stock.get_market_ohlcv(fromDate, toDate, ticker)\n",
    "\n",
    "    csv_buffer = StringIO()\n",
    "    # dataframe -> csv 형태로 변환\n",
    "    df.to_csv(csv_buffer)\n",
    "    return csv_buffer.getvalue()"
   ]
  },
  {
   "cell_type": "code",
   "execution_count": null,
   "metadata": {},
   "outputs": [],
   "source": [
    "# 삼성 : 005930\n",
    "# 할루시네이션 방지용으로 티커 코드는 제공해주는 것\n",
    "messages = [{\"role\": \"user\", \"content\": \"삼성전자(005930) 2022년 8월 1일부터 2022년 12월 1일까지의 데이터를 분석해서 보고해줘.\"}]\n",
    "functions = [\n",
    "    {\n",
    "        \"name\": \"get_csv_finance\",\n",
    "        \"discription\": \"날짜별 삼성전자 주가를 알려줍니다.\",\n",
    "        \"parameters\": {\n",
    "            \"type\": \"object\",\n",
    "            \"properties\": {\n",
    "                \"fromDate\": {\"type\": \"string\", \"description\": \"시작 일자\"},\n",
    "                \"toDate\": {\"type\": \"string\", \"description\": \"종료 일자\"},\n",
    "                \"ticker\": {\"type\": \"string\", \"description\":\"6자리 숫자 형식의 종목 티커코드\"}\n",
    "            },\n",
    "            \"required\": [\"fromDate\", \"toDate\", \"ticker\"]\n",
    "        }\n",
    "    }\n",
    "]\n",
    "\n",
    "\n",
    "response = client.chat.completions.create(\n",
    "    model=\"gpt-4o-mini\",\n",
    "    messages=messages,\n",
    "    functions=functions,\n",
    "    function_call=\"auto\",\n",
    ")\n",
    "\n",
    "response_message = response.choices[0].message\n",
    "print(response_message)\n"
   ]
  },
  {
   "cell_type": "code",
   "execution_count": null,
   "metadata": {},
   "outputs": [],
   "source": [
    "# 데이터를 가져와서 실행\n",
    "\n",
    "if response_message.function_call is not None:\n",
    "    available_functions = {\n",
    "        \"get_csv_finance\" : get_csv_finance,\n",
    "    }\n",
    "\n",
    "    function_name = response_message.function_call.name\n",
    "    function_to_call = available_functions[function_name]\n",
    "    function_args = json.loads(response_message.function_call.arguments)\n",
    "    function_response = function_to_call(\n",
    "        fromDate=function_args['fromDate'],\n",
    "        toDate=function_args['toDate'],\n",
    "        ticker=function_args['ticker']\n",
    "    )\n",
    "    messages.append(response_message)\n",
    "    messages.append(\n",
    "        {\n",
    "            \"role\": \"function\",\n",
    "            \"name\": function_name,\n",
    "            \"content\": function_response,\n",
    "        }\n",
    "    )\n",
    "    second_response = client.chat.completions.create(\n",
    "        model=\"gpt-4o-mini\",\n",
    "        messages=messages,\n",
    "    )  # get a new response from GPT where it can see the function response\n",
    "\n",
    "    print(second_response.choices[0].message.content)"
   ]
  }
 ],
 "metadata": {
  "kernelspec": {
   "display_name": "Python 3",
   "language": "python",
   "name": "python3"
  },
  "language_info": {
   "codemirror_mode": {
    "name": "ipython",
    "version": 3
   },
   "file_extension": ".py",
   "mimetype": "text/x-python",
   "name": "python",
   "nbconvert_exporter": "python",
   "pygments_lexer": "ipython3",
   "version": "3.10.12"
  }
 },
 "nbformat": 4,
 "nbformat_minor": 2
}
